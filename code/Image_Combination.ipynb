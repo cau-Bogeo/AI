{
 "cells": [
  {
   "cell_type": "code",
   "execution_count": 1,
   "id": "b55ce8e9",
   "metadata": {},
   "outputs": [
    {
     "name": "stderr",
     "output_type": "stream",
     "text": [
      "C:\\Users\\ksjljk1030\\AppData\\Local\\Temp\\ipykernel_16564\\3030421570.py:11: DeprecationWarning: ROTATE_90 is deprecated and will be removed in Pillow 10 (2023-07-01). Use Transpose.ROTATE_90 instead.\n",
      "  deg_image1 = image1.transpose(Image.ROTATE_90)\n",
      "C:\\Users\\ksjljk1030\\AppData\\Local\\Temp\\ipykernel_16564\\3030421570.py:16: DeprecationWarning: ROTATE_90 is deprecated and will be removed in Pillow 10 (2023-07-01). Use Transpose.ROTATE_90 instead.\n",
      "  deg_image2 = image2.transpose(Image.ROTATE_90)\n"
     ]
    }
   ],
   "source": [
    "from PIL import Image\n",
    " \n",
    "image1 = Image.open('/Users/ksjljk1030/sample/러지피드정10.jpg')\n",
    "image1.show()\n",
    " \n",
    "image2 = Image.open('/Users/ksjljk1030/sample/러지피드정10.jpg')\n",
    "image2.show()\n",
    "w1, h1 = image1.size\n",
    "w2, h2 = image2.size\n",
    "if w1 > h1:\n",
    "    deg_image1 = image1.transpose(Image.ROTATE_90)\n",
    "else:\n",
    "    deg_image1 = image1\n",
    "\n",
    "if w2 > h2:\n",
    "    deg_image2 = image2.transpose(Image.ROTATE_90)\n",
    "else:\n",
    "    deg_image2 = image2\n",
    "\n",
    "\n",
    "image1_size = deg_image1.size\n",
    "image2_size = deg_image2.size\n",
    "new_image = Image.new('RGB',(2*image1_size[0], image1_size[1]), (250,250,250))\n",
    "new_image.paste(deg_image1,(0,0))\n",
    "new_image.paste(deg_image2,(image1_size[0],0))\n",
    "new_image.save(\"merged_image.jpg\",\"JPEG\")\n",
    "new_image.show()"
   ]
  },
  {
   "cell_type": "code",
   "execution_count": null,
   "id": "cf07cee9",
   "metadata": {},
   "outputs": [],
   "source": []
  }
 ],
 "metadata": {
  "kernelspec": {
   "display_name": "Python 3 (ipykernel)",
   "language": "python",
   "name": "python3"
  },
  "language_info": {
   "codemirror_mode": {
    "name": "ipython",
    "version": 3
   },
   "file_extension": ".py",
   "mimetype": "text/x-python",
   "name": "python",
   "nbconvert_exporter": "python",
   "pygments_lexer": "ipython3",
   "version": "3.9.13"
  }
 },
 "nbformat": 4,
 "nbformat_minor": 5
}
